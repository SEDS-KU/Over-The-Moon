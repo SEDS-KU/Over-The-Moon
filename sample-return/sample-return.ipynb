{
 "metadata": {
  "language_info": {
   "codemirror_mode": {
    "name": "ipython",
    "version": 3
   },
   "file_extension": ".py",
   "mimetype": "text/x-python",
   "name": "python",
   "nbconvert_exporter": "python",
   "pygments_lexer": "ipython3",
   "version": "3.8.5-final"
  },
  "orig_nbformat": 2,
  "kernelspec": {
   "name": "Python 3.8.5 64-bit",
   "display_name": "Python 3.8.5 64-bit",
   "metadata": {
    "interpreter": {
     "hash": "776d0385c31ec595870eb83e4f9f34eaf6a8ac0041d0d5b8230ca7bfcf3c5fb0"
    }
   }
  }
 },
 "nbformat": 4,
 "nbformat_minor": 2,
 "cells": [
  {
   "cell_type": "code",
   "execution_count": 1,
   "metadata": {},
   "outputs": [
    {
     "output_type": "execute_result",
     "data": {
      "text/plain": [
       "      ID   Mission    Type   Subtype  Weight(g)  Pristine(%)\n",
       "0  10001  Apollo11    Soil  Unsieved      125.8        88.36\n",
       "1  10002  Apollo11    Soil  Unsieved     5629.0        93.73\n",
       "2  10003  Apollo11  Basalt  Ilmenite      213.0        65.56\n",
       "3  10004  Apollo11    Core  Unsieved       44.8        71.76\n",
       "4  10005  Apollo11    Core  Unsieved       53.4        40.31"
      ],
      "text/html": "<div>\n<style scoped>\n    .dataframe tbody tr th:only-of-type {\n        vertical-align: middle;\n    }\n\n    .dataframe tbody tr th {\n        vertical-align: top;\n    }\n\n    .dataframe thead th {\n        text-align: right;\n    }\n</style>\n<table border=\"1\" class=\"dataframe\">\n  <thead>\n    <tr style=\"text-align: right;\">\n      <th></th>\n      <th>ID</th>\n      <th>Mission</th>\n      <th>Type</th>\n      <th>Subtype</th>\n      <th>Weight(g)</th>\n      <th>Pristine(%)</th>\n    </tr>\n  </thead>\n  <tbody>\n    <tr>\n      <th>0</th>\n      <td>10001</td>\n      <td>Apollo11</td>\n      <td>Soil</td>\n      <td>Unsieved</td>\n      <td>125.8</td>\n      <td>88.36</td>\n    </tr>\n    <tr>\n      <th>1</th>\n      <td>10002</td>\n      <td>Apollo11</td>\n      <td>Soil</td>\n      <td>Unsieved</td>\n      <td>5629.0</td>\n      <td>93.73</td>\n    </tr>\n    <tr>\n      <th>2</th>\n      <td>10003</td>\n      <td>Apollo11</td>\n      <td>Basalt</td>\n      <td>Ilmenite</td>\n      <td>213.0</td>\n      <td>65.56</td>\n    </tr>\n    <tr>\n      <th>3</th>\n      <td>10004</td>\n      <td>Apollo11</td>\n      <td>Core</td>\n      <td>Unsieved</td>\n      <td>44.8</td>\n      <td>71.76</td>\n    </tr>\n    <tr>\n      <th>4</th>\n      <td>10005</td>\n      <td>Apollo11</td>\n      <td>Core</td>\n      <td>Unsieved</td>\n      <td>53.4</td>\n      <td>40.31</td>\n    </tr>\n  </tbody>\n</table>\n</div>"
     },
     "metadata": {},
     "execution_count": 1
    }
   ],
   "source": [
    "import pandas as pd \n",
    "rock_samples = pd.read_csv('data/rocksamples.csv') \n",
    "rock_samples.head()"
   ]
  },
  {
   "cell_type": "code",
   "execution_count": 2,
   "metadata": {},
   "outputs": [
    {
     "output_type": "stream",
     "name": "stdout",
     "text": [
      "<class 'pandas.core.frame.DataFrame'>\nRangeIndex: 2229 entries, 0 to 2228\nData columns (total 6 columns):\n #   Column       Non-Null Count  Dtype  \n---  ------       --------------  -----  \n 0   ID           2229 non-null   int64  \n 1   Mission      2229 non-null   object \n 2   Type         2229 non-null   object \n 3   Subtype      2226 non-null   object \n 4   Weight(g)    2229 non-null   float64\n 5   Pristine(%)  2229 non-null   float64\ndtypes: float64(2), int64(1), object(3)\nmemory usage: 104.6+ KB\n"
     ]
    }
   ],
   "source": [
    "rock_samples.info()"
   ]
  },
  {
   "cell_type": "code",
   "execution_count": 3,
   "metadata": {},
   "outputs": [
    {
     "output_type": "execute_result",
     "data": {
      "text/plain": [
       "      ID   Mission    Type   Subtype  Weight(kg)  Pristine(%)\n",
       "0  10001  Apollo11    Soil  Unsieved      0.1258        88.36\n",
       "1  10002  Apollo11    Soil  Unsieved      5.6290        93.73\n",
       "2  10003  Apollo11  Basalt  Ilmenite      0.2130        65.56\n",
       "3  10004  Apollo11    Core  Unsieved      0.0448        71.76\n",
       "4  10005  Apollo11    Core  Unsieved      0.0534        40.31"
      ],
      "text/html": "<div>\n<style scoped>\n    .dataframe tbody tr th:only-of-type {\n        vertical-align: middle;\n    }\n\n    .dataframe tbody tr th {\n        vertical-align: top;\n    }\n\n    .dataframe thead th {\n        text-align: right;\n    }\n</style>\n<table border=\"1\" class=\"dataframe\">\n  <thead>\n    <tr style=\"text-align: right;\">\n      <th></th>\n      <th>ID</th>\n      <th>Mission</th>\n      <th>Type</th>\n      <th>Subtype</th>\n      <th>Weight(kg)</th>\n      <th>Pristine(%)</th>\n    </tr>\n  </thead>\n  <tbody>\n    <tr>\n      <th>0</th>\n      <td>10001</td>\n      <td>Apollo11</td>\n      <td>Soil</td>\n      <td>Unsieved</td>\n      <td>0.1258</td>\n      <td>88.36</td>\n    </tr>\n    <tr>\n      <th>1</th>\n      <td>10002</td>\n      <td>Apollo11</td>\n      <td>Soil</td>\n      <td>Unsieved</td>\n      <td>5.6290</td>\n      <td>93.73</td>\n    </tr>\n    <tr>\n      <th>2</th>\n      <td>10003</td>\n      <td>Apollo11</td>\n      <td>Basalt</td>\n      <td>Ilmenite</td>\n      <td>0.2130</td>\n      <td>65.56</td>\n    </tr>\n    <tr>\n      <th>3</th>\n      <td>10004</td>\n      <td>Apollo11</td>\n      <td>Core</td>\n      <td>Unsieved</td>\n      <td>0.0448</td>\n      <td>71.76</td>\n    </tr>\n    <tr>\n      <th>4</th>\n      <td>10005</td>\n      <td>Apollo11</td>\n      <td>Core</td>\n      <td>Unsieved</td>\n      <td>0.0534</td>\n      <td>40.31</td>\n    </tr>\n  </tbody>\n</table>\n</div>"
     },
     "metadata": {},
     "execution_count": 3
    }
   ],
   "source": [
    "rock_samples['Weight(g)'] = rock_samples['Weight(g)'].apply(lambda x : x * 0.001)\n",
    "rock_samples.rename(columns={'Weight(g)':'Weight(kg)'}, inplace=True)\n",
    "rock_samples.head()"
   ]
  },
  {
   "cell_type": "code",
   "execution_count": 4,
   "metadata": {},
   "outputs": [
    {
     "output_type": "execute_result",
     "data": {
      "text/plain": [
       "    Mission\n",
       "0  Apollo11\n",
       "1  Apollo12\n",
       "2  Apollo14\n",
       "3  Apollo15\n",
       "4  Apollo16"
      ],
      "text/html": "<div>\n<style scoped>\n    .dataframe tbody tr th:only-of-type {\n        vertical-align: middle;\n    }\n\n    .dataframe tbody tr th {\n        vertical-align: top;\n    }\n\n    .dataframe thead th {\n        text-align: right;\n    }\n</style>\n<table border=\"1\" class=\"dataframe\">\n  <thead>\n    <tr style=\"text-align: right;\">\n      <th></th>\n      <th>Mission</th>\n    </tr>\n  </thead>\n  <tbody>\n    <tr>\n      <th>0</th>\n      <td>Apollo11</td>\n    </tr>\n    <tr>\n      <th>1</th>\n      <td>Apollo12</td>\n    </tr>\n    <tr>\n      <th>2</th>\n      <td>Apollo14</td>\n    </tr>\n    <tr>\n      <th>3</th>\n      <td>Apollo15</td>\n    </tr>\n    <tr>\n      <th>4</th>\n      <td>Apollo16</td>\n    </tr>\n  </tbody>\n</table>\n</div>"
     },
     "metadata": {},
     "execution_count": 4
    }
   ],
   "source": [
    "missions = pd.DataFrame()\n",
    "missions['Mission'] = rock_samples['Mission'].unique()\n",
    "missions.head()"
   ]
  },
  {
   "cell_type": "code",
   "execution_count": 5,
   "metadata": {},
   "outputs": [
    {
     "output_type": "stream",
     "name": "stdout",
     "text": [
      "<class 'pandas.core.frame.DataFrame'>\nRangeIndex: 6 entries, 0 to 5\nData columns (total 1 columns):\n #   Column   Non-Null Count  Dtype \n---  ------   --------------  ----- \n 0   Mission  6 non-null      object\ndtypes: object(1)\nmemory usage: 176.0+ bytes\n"
     ]
    }
   ],
   "source": [
    "missions.info()"
   ]
  },
  {
   "cell_type": "code",
   "execution_count": 7,
   "metadata": {},
   "outputs": [
    {
     "output_type": "execute_result",
     "data": {
      "text/plain": [
       "    Mission  Sample Weight(kg)\n",
       "0  Apollo11           21.55424\n",
       "1  Apollo12           34.34238\n",
       "2  Apollo14           41.83363\n",
       "3  Apollo15           75.39910\n",
       "4  Apollo16           92.46262\n",
       "5  Apollo17          109.44402"
      ],
      "text/html": "<div>\n<style scoped>\n    .dataframe tbody tr th:only-of-type {\n        vertical-align: middle;\n    }\n\n    .dataframe tbody tr th {\n        vertical-align: top;\n    }\n\n    .dataframe thead th {\n        text-align: right;\n    }\n</style>\n<table border=\"1\" class=\"dataframe\">\n  <thead>\n    <tr style=\"text-align: right;\">\n      <th></th>\n      <th>Mission</th>\n      <th>Sample Weight(kg)</th>\n    </tr>\n  </thead>\n  <tbody>\n    <tr>\n      <th>0</th>\n      <td>Apollo11</td>\n      <td>21.55424</td>\n    </tr>\n    <tr>\n      <th>1</th>\n      <td>Apollo12</td>\n      <td>34.34238</td>\n    </tr>\n    <tr>\n      <th>2</th>\n      <td>Apollo14</td>\n      <td>41.83363</td>\n    </tr>\n    <tr>\n      <th>3</th>\n      <td>Apollo15</td>\n      <td>75.39910</td>\n    </tr>\n    <tr>\n      <th>4</th>\n      <td>Apollo16</td>\n      <td>92.46262</td>\n    </tr>\n    <tr>\n      <th>5</th>\n      <td>Apollo17</td>\n      <td>109.44402</td>\n    </tr>\n  </tbody>\n</table>\n</div>"
     },
     "metadata": {},
     "execution_count": 7
    }
   ],
   "source": [
    "# Sum total sample weight by mission\n",
    "sample_total_weight = rock_samples.groupby('Mission')['Weight(kg)'].sum()\n",
    "missions = pd.merge(missions, sample_total_weight, on='Mission')\n",
    "missions.rename(columns={'Weight(kg)':'Sample Weight(kg)'}, inplace=True)\n",
    "missions"
   ]
  },
  {
   "cell_type": "code",
   "execution_count": 8,
   "metadata": {},
   "outputs": [],
   "source": [
    "# rock_samples.groupby('Mission') - This groups all the rows by the values in the Mission column.\n",
    "#rock_samples.groupby('Mission')['Weight(kg)'] - This grabs all the values in the Weight(kg) column, but groups by unique values in the Mission column.\n",
    "#rock_samples.groupby('Mission')['Weight(kg)'].sum() - This sums all the values in the Weight(kg) column for each unique value in the Mission column."
   ]
  },
  {
   "cell_type": "code",
   "execution_count": 9,
   "metadata": {},
   "outputs": [
    {
     "output_type": "execute_result",
     "data": {
      "text/plain": [
       "Mission\n",
       "Apollo11     21.55424\n",
       "Apollo12     34.34238\n",
       "Apollo14     41.83363\n",
       "Apollo15     75.39910\n",
       "Apollo16     92.46262\n",
       "Apollo17    109.44402\n",
       "Name: Weight(kg), dtype: float64"
      ]
     },
     "metadata": {},
     "execution_count": 9
    }
   ],
   "source": [
    "sample_total_weight = rock_samples.groupby('Mission')['Weight(kg)'].sum()\n",
    "sample_total_weight"
   ]
  },
  {
   "cell_type": "code",
   "execution_count": 10,
   "metadata": {},
   "outputs": [],
   "source": [
    "# The next line, pd.merge(missions, sample_total_weight, on='Mission'), can be described as:\n",
    "\n",
    "# Merge the missions dataframe with the sample_total_weight series by using the Mission column as the index to merge on. What the computer will do is basically this: for each value in the Missions column in the missions dataframe, find that same value in the sample_total_weight series, and add the value from the series into the row as a new column in the dataframe."
   ]
  },
  {
   "cell_type": "code",
   "execution_count": 11,
   "metadata": {},
   "outputs": [
    {
     "output_type": "execute_result",
     "data": {
      "text/plain": [
       "    Mission  Sample Weight(kg)  Weight Diff\n",
       "0  Apollo11           21.55424          NaN\n",
       "1  Apollo12           34.34238     12.78814\n",
       "2  Apollo14           41.83363      7.49125\n",
       "3  Apollo15           75.39910     33.56547\n",
       "4  Apollo16           92.46262     17.06352\n",
       "5  Apollo17          109.44402     16.98140"
      ],
      "text/html": "<div>\n<style scoped>\n    .dataframe tbody tr th:only-of-type {\n        vertical-align: middle;\n    }\n\n    .dataframe tbody tr th {\n        vertical-align: top;\n    }\n\n    .dataframe thead th {\n        text-align: right;\n    }\n</style>\n<table border=\"1\" class=\"dataframe\">\n  <thead>\n    <tr style=\"text-align: right;\">\n      <th></th>\n      <th>Mission</th>\n      <th>Sample Weight(kg)</th>\n      <th>Weight Diff</th>\n    </tr>\n  </thead>\n  <tbody>\n    <tr>\n      <th>0</th>\n      <td>Apollo11</td>\n      <td>21.55424</td>\n      <td>NaN</td>\n    </tr>\n    <tr>\n      <th>1</th>\n      <td>Apollo12</td>\n      <td>34.34238</td>\n      <td>12.78814</td>\n    </tr>\n    <tr>\n      <th>2</th>\n      <td>Apollo14</td>\n      <td>41.83363</td>\n      <td>7.49125</td>\n    </tr>\n    <tr>\n      <th>3</th>\n      <td>Apollo15</td>\n      <td>75.39910</td>\n      <td>33.56547</td>\n    </tr>\n    <tr>\n      <th>4</th>\n      <td>Apollo16</td>\n      <td>92.46262</td>\n      <td>17.06352</td>\n    </tr>\n    <tr>\n      <th>5</th>\n      <td>Apollo17</td>\n      <td>109.44402</td>\n      <td>16.98140</td>\n    </tr>\n  </tbody>\n</table>\n</div>"
     },
     "metadata": {},
     "execution_count": 11
    }
   ],
   "source": [
    "# Get the difference in weights across missions\n",
    "missions['Weight Diff'] = missions['Sample Weight(kg)'].diff()\n",
    "missions"
   ]
  },
  {
   "cell_type": "code",
   "execution_count": 12,
   "metadata": {},
   "outputs": [
    {
     "output_type": "execute_result",
     "data": {
      "text/plain": [
       "    Mission  Sample Weight(kg)  Weight Diff\n",
       "0  Apollo11           21.55424      0.00000\n",
       "1  Apollo12           34.34238     12.78814\n",
       "2  Apollo14           41.83363      7.49125\n",
       "3  Apollo15           75.39910     33.56547\n",
       "4  Apollo16           92.46262     17.06352\n",
       "5  Apollo17          109.44402     16.98140"
      ],
      "text/html": "<div>\n<style scoped>\n    .dataframe tbody tr th:only-of-type {\n        vertical-align: middle;\n    }\n\n    .dataframe tbody tr th {\n        vertical-align: top;\n    }\n\n    .dataframe thead th {\n        text-align: right;\n    }\n</style>\n<table border=\"1\" class=\"dataframe\">\n  <thead>\n    <tr style=\"text-align: right;\">\n      <th></th>\n      <th>Mission</th>\n      <th>Sample Weight(kg)</th>\n      <th>Weight Diff</th>\n    </tr>\n  </thead>\n  <tbody>\n    <tr>\n      <th>0</th>\n      <td>Apollo11</td>\n      <td>21.55424</td>\n      <td>0.00000</td>\n    </tr>\n    <tr>\n      <th>1</th>\n      <td>Apollo12</td>\n      <td>34.34238</td>\n      <td>12.78814</td>\n    </tr>\n    <tr>\n      <th>2</th>\n      <td>Apollo14</td>\n      <td>41.83363</td>\n      <td>7.49125</td>\n    </tr>\n    <tr>\n      <th>3</th>\n      <td>Apollo15</td>\n      <td>75.39910</td>\n      <td>33.56547</td>\n    </tr>\n    <tr>\n      <th>4</th>\n      <td>Apollo16</td>\n      <td>92.46262</td>\n      <td>17.06352</td>\n    </tr>\n    <tr>\n      <th>5</th>\n      <td>Apollo17</td>\n      <td>109.44402</td>\n      <td>16.98140</td>\n    </tr>\n  </tbody>\n</table>\n</div>"
     },
     "metadata": {},
     "execution_count": 12
    }
   ],
   "source": [
    "#Looked only at the Weight Diff column in the missions dataframe\n",
    "#Filled all \"na\" (or null) values with a certain value\n",
    "#The value to fill in the na values is 0\n",
    "#Saved the modified list of values for that column back into the column\n",
    "missions['Weight Diff'] = missions['Weight Diff'].fillna(value=0)\n",
    "missions"
   ]
  },
  {
   "cell_type": "code",
   "execution_count": 14,
   "metadata": {},
   "outputs": [
    {
     "output_type": "execute_result",
     "data": {
      "text/plain": [
       "    Mission  Sample Weight(kg)  Weight Diff   Lunar Module (LM)  LM Mass (kg)  \\\n",
       "0  Apollo11           21.55424      0.00000       Orion (LM-11)         15264   \n",
       "1  Apollo12           34.34238     12.78814      Antares (LM-8)         15235   \n",
       "2  Apollo14           41.83363      7.49125     Intrepid (LM-6)         16456   \n",
       "3  Apollo15           75.39910     33.56547        Eagle (LM-5)         16430   \n",
       "4  Apollo16           92.46262     17.06352      Falcon (LM-10)         16445   \n",
       "5  Apollo17          109.44402     16.98140  Challenger (LM-12)         15103   \n",
       "\n",
       "   LM Mass Diff      Command Module (CM)  CM Mass (kg)  CM Mass Diff  \n",
       "0           0.0        Endeavor (CM-112)          5960           0.0  \n",
       "1         -29.0         America (CM-114)          5609        -351.0  \n",
       "2        1221.0       Columbia (CSM-107)          5840         231.0  \n",
       "3         -26.0  Yankee Clipper (CM-108)          5875          35.0  \n",
       "4          15.0      Kitty Hawk (CM-110)          5560        -315.0  \n",
       "5       -1342.0          Casper (CM-113)          5758         198.0  "
      ],
      "text/html": "<div>\n<style scoped>\n    .dataframe tbody tr th:only-of-type {\n        vertical-align: middle;\n    }\n\n    .dataframe tbody tr th {\n        vertical-align: top;\n    }\n\n    .dataframe thead th {\n        text-align: right;\n    }\n</style>\n<table border=\"1\" class=\"dataframe\">\n  <thead>\n    <tr style=\"text-align: right;\">\n      <th></th>\n      <th>Mission</th>\n      <th>Sample Weight(kg)</th>\n      <th>Weight Diff</th>\n      <th>Lunar Module (LM)</th>\n      <th>LM Mass (kg)</th>\n      <th>LM Mass Diff</th>\n      <th>Command Module (CM)</th>\n      <th>CM Mass (kg)</th>\n      <th>CM Mass Diff</th>\n    </tr>\n  </thead>\n  <tbody>\n    <tr>\n      <th>0</th>\n      <td>Apollo11</td>\n      <td>21.55424</td>\n      <td>0.00000</td>\n      <td>Orion (LM-11)</td>\n      <td>15264</td>\n      <td>0.0</td>\n      <td>Endeavor (CM-112)</td>\n      <td>5960</td>\n      <td>0.0</td>\n    </tr>\n    <tr>\n      <th>1</th>\n      <td>Apollo12</td>\n      <td>34.34238</td>\n      <td>12.78814</td>\n      <td>Antares (LM-8)</td>\n      <td>15235</td>\n      <td>-29.0</td>\n      <td>America (CM-114)</td>\n      <td>5609</td>\n      <td>-351.0</td>\n    </tr>\n    <tr>\n      <th>2</th>\n      <td>Apollo14</td>\n      <td>41.83363</td>\n      <td>7.49125</td>\n      <td>Intrepid (LM-6)</td>\n      <td>16456</td>\n      <td>1221.0</td>\n      <td>Columbia (CSM-107)</td>\n      <td>5840</td>\n      <td>231.0</td>\n    </tr>\n    <tr>\n      <th>3</th>\n      <td>Apollo15</td>\n      <td>75.39910</td>\n      <td>33.56547</td>\n      <td>Eagle (LM-5)</td>\n      <td>16430</td>\n      <td>-26.0</td>\n      <td>Yankee Clipper (CM-108)</td>\n      <td>5875</td>\n      <td>35.0</td>\n    </tr>\n    <tr>\n      <th>4</th>\n      <td>Apollo16</td>\n      <td>92.46262</td>\n      <td>17.06352</td>\n      <td>Falcon (LM-10)</td>\n      <td>16445</td>\n      <td>15.0</td>\n      <td>Kitty Hawk (CM-110)</td>\n      <td>5560</td>\n      <td>-315.0</td>\n    </tr>\n    <tr>\n      <th>5</th>\n      <td>Apollo17</td>\n      <td>109.44402</td>\n      <td>16.98140</td>\n      <td>Challenger (LM-12)</td>\n      <td>15103</td>\n      <td>-1342.0</td>\n      <td>Casper (CM-113)</td>\n      <td>5758</td>\n      <td>198.0</td>\n    </tr>\n  </tbody>\n</table>\n</div>"
     },
     "metadata": {},
     "execution_count": 14
    }
   ],
   "source": [
    "# Add in command and lunar module data\n",
    "# Fill in any NaN values with 0:\n",
    "missions['Lunar Module (LM)'] = {'Eagle (LM-5)', 'Intrepid (LM-6)', 'Antares (LM-8)', 'Falcon (LM-10)', 'Orion (LM-11)', 'Challenger (LM-12)'}\n",
    "missions['LM Mass (kg)'] = {15103, 15235, 15264, 16430, 16445, 16456}\n",
    "missions['LM Mass Diff'] = missions['LM Mass (kg)'].diff()\n",
    "missions['LM Mass Diff'] = missions['LM Mass Diff'].fillna(value=0)\n",
    "\n",
    "missions['Command Module (CM)'] = {'Columbia (CSM-107)', 'Yankee Clipper (CM-108)', 'Kitty Hawk (CM-110)', 'Endeavor (CM-112)', 'Casper (CM-113)', 'America (CM-114)'}\n",
    "missions['CM Mass (kg)'] = {5560, 5609, 5758, 5875, 5840, 5960}\n",
    "missions['CM Mass Diff'] = missions['CM Mass (kg)'].diff()\n",
    "missions['CM Mass Diff'] = missions['CM Mass Diff'].fillna(value=0)\n",
    "\n",
    "missions"
   ]
  },
  {
   "cell_type": "code",
   "execution_count": 15,
   "metadata": {},
   "outputs": [
    {
     "output_type": "execute_result",
     "data": {
      "text/plain": [
       "    Mission  Sample Weight(kg)  Weight Diff   Lunar Module (LM)  LM Mass (kg)  \\\n",
       "0  Apollo11           21.55424      0.00000       Orion (LM-11)         15264   \n",
       "1  Apollo12           34.34238     12.78814      Antares (LM-8)         15235   \n",
       "2  Apollo14           41.83363      7.49125     Intrepid (LM-6)         16456   \n",
       "3  Apollo15           75.39910     33.56547        Eagle (LM-5)         16430   \n",
       "4  Apollo16           92.46262     17.06352      Falcon (LM-10)         16445   \n",
       "5  Apollo17          109.44402     16.98140  Challenger (LM-12)         15103   \n",
       "\n",
       "   LM Mass Diff      Command Module (CM)  CM Mass (kg)  CM Mass Diff  \\\n",
       "0           0.0        Endeavor (CM-112)          5960           0.0   \n",
       "1         -29.0         America (CM-114)          5609        -351.0   \n",
       "2        1221.0       Columbia (CSM-107)          5840         231.0   \n",
       "3         -26.0  Yankee Clipper (CM-108)          5875          35.0   \n",
       "4          15.0      Kitty Hawk (CM-110)          5560        -315.0   \n",
       "5       -1342.0          Casper (CM-113)          5758         198.0   \n",
       "\n",
       "   Total Weight (kg)  Total Weight Diff  \n",
       "0              21224                0.0  \n",
       "1              20844             -380.0  \n",
       "2              22296             1452.0  \n",
       "3              22305                9.0  \n",
       "4              22005             -300.0  \n",
       "5              20861            -1144.0  "
      ],
      "text/html": "<div>\n<style scoped>\n    .dataframe tbody tr th:only-of-type {\n        vertical-align: middle;\n    }\n\n    .dataframe tbody tr th {\n        vertical-align: top;\n    }\n\n    .dataframe thead th {\n        text-align: right;\n    }\n</style>\n<table border=\"1\" class=\"dataframe\">\n  <thead>\n    <tr style=\"text-align: right;\">\n      <th></th>\n      <th>Mission</th>\n      <th>Sample Weight(kg)</th>\n      <th>Weight Diff</th>\n      <th>Lunar Module (LM)</th>\n      <th>LM Mass (kg)</th>\n      <th>LM Mass Diff</th>\n      <th>Command Module (CM)</th>\n      <th>CM Mass (kg)</th>\n      <th>CM Mass Diff</th>\n      <th>Total Weight (kg)</th>\n      <th>Total Weight Diff</th>\n    </tr>\n  </thead>\n  <tbody>\n    <tr>\n      <th>0</th>\n      <td>Apollo11</td>\n      <td>21.55424</td>\n      <td>0.00000</td>\n      <td>Orion (LM-11)</td>\n      <td>15264</td>\n      <td>0.0</td>\n      <td>Endeavor (CM-112)</td>\n      <td>5960</td>\n      <td>0.0</td>\n      <td>21224</td>\n      <td>0.0</td>\n    </tr>\n    <tr>\n      <th>1</th>\n      <td>Apollo12</td>\n      <td>34.34238</td>\n      <td>12.78814</td>\n      <td>Antares (LM-8)</td>\n      <td>15235</td>\n      <td>-29.0</td>\n      <td>America (CM-114)</td>\n      <td>5609</td>\n      <td>-351.0</td>\n      <td>20844</td>\n      <td>-380.0</td>\n    </tr>\n    <tr>\n      <th>2</th>\n      <td>Apollo14</td>\n      <td>41.83363</td>\n      <td>7.49125</td>\n      <td>Intrepid (LM-6)</td>\n      <td>16456</td>\n      <td>1221.0</td>\n      <td>Columbia (CSM-107)</td>\n      <td>5840</td>\n      <td>231.0</td>\n      <td>22296</td>\n      <td>1452.0</td>\n    </tr>\n    <tr>\n      <th>3</th>\n      <td>Apollo15</td>\n      <td>75.39910</td>\n      <td>33.56547</td>\n      <td>Eagle (LM-5)</td>\n      <td>16430</td>\n      <td>-26.0</td>\n      <td>Yankee Clipper (CM-108)</td>\n      <td>5875</td>\n      <td>35.0</td>\n      <td>22305</td>\n      <td>9.0</td>\n    </tr>\n    <tr>\n      <th>4</th>\n      <td>Apollo16</td>\n      <td>92.46262</td>\n      <td>17.06352</td>\n      <td>Falcon (LM-10)</td>\n      <td>16445</td>\n      <td>15.0</td>\n      <td>Kitty Hawk (CM-110)</td>\n      <td>5560</td>\n      <td>-315.0</td>\n      <td>22005</td>\n      <td>-300.0</td>\n    </tr>\n    <tr>\n      <th>5</th>\n      <td>Apollo17</td>\n      <td>109.44402</td>\n      <td>16.98140</td>\n      <td>Challenger (LM-12)</td>\n      <td>15103</td>\n      <td>-1342.0</td>\n      <td>Casper (CM-113)</td>\n      <td>5758</td>\n      <td>198.0</td>\n      <td>20861</td>\n      <td>-1144.0</td>\n    </tr>\n  </tbody>\n</table>\n</div>"
     },
     "metadata": {},
     "execution_count": 15
    }
   ],
   "source": [
    "# We can add some totals for each mission across both the lunar and command modules:\n",
    "missions['Total Weight (kg)'] = missions['LM Mass (kg)'] + missions['CM Mass (kg)']\n",
    "missions['Total Weight Diff'] = missions['LM Mass Diff'] + missions['CM Mass Diff']\n",
    "missions"
   ]
  },
  {
   "cell_type": "code",
   "execution_count": 16,
   "metadata": {},
   "outputs": [
    {
     "output_type": "execute_result",
     "data": {
      "text/plain": [
       "    Mission  Sample Weight(kg)  Weight Diff   Lunar Module (LM)  LM Mass (kg)  \\\n",
       "0  Apollo11           21.55424      0.00000       Orion (LM-11)         15264   \n",
       "1  Apollo12           34.34238     12.78814      Antares (LM-8)         15235   \n",
       "2  Apollo14           41.83363      7.49125     Intrepid (LM-6)         16456   \n",
       "3  Apollo15           75.39910     33.56547        Eagle (LM-5)         16430   \n",
       "4  Apollo16           92.46262     17.06352      Falcon (LM-10)         16445   \n",
       "5  Apollo17          109.44402     16.98140  Challenger (LM-12)         15103   \n",
       "\n",
       "   LM Mass Diff      Command Module (CM)  CM Mass (kg)  CM Mass Diff  \\\n",
       "0           0.0        Endeavor (CM-112)          5960           0.0   \n",
       "1         -29.0         America (CM-114)          5609        -351.0   \n",
       "2        1221.0       Columbia (CSM-107)          5840         231.0   \n",
       "3         -26.0  Yankee Clipper (CM-108)          5875          35.0   \n",
       "4          15.0      Kitty Hawk (CM-110)          5560        -315.0   \n",
       "5       -1342.0          Casper (CM-113)          5758         198.0   \n",
       "\n",
       "   Total Weight (kg)  Total Weight Diff  Crewed Area : Payload  \\\n",
       "0              21224                0.0               0.487908   \n",
       "1              20844             -380.0               0.479172   \n",
       "2              22296             1452.0               0.512552   \n",
       "3              22305                9.0               0.512759   \n",
       "4              22005             -300.0               0.505862   \n",
       "5              20861            -1144.0               0.479563   \n",
       "\n",
       "   Sample : Crewed Area  Sample : Payload  \n",
       "0              0.001016          0.000495  \n",
       "1              0.001648          0.000789  \n",
       "2              0.001876          0.000962  \n",
       "3              0.003380          0.001733  \n",
       "4              0.004202          0.002126  \n",
       "5              0.005246          0.002516  "
      ],
      "text/html": "<div>\n<style scoped>\n    .dataframe tbody tr th:only-of-type {\n        vertical-align: middle;\n    }\n\n    .dataframe tbody tr th {\n        vertical-align: top;\n    }\n\n    .dataframe thead th {\n        text-align: right;\n    }\n</style>\n<table border=\"1\" class=\"dataframe\">\n  <thead>\n    <tr style=\"text-align: right;\">\n      <th></th>\n      <th>Mission</th>\n      <th>Sample Weight(kg)</th>\n      <th>Weight Diff</th>\n      <th>Lunar Module (LM)</th>\n      <th>LM Mass (kg)</th>\n      <th>LM Mass Diff</th>\n      <th>Command Module (CM)</th>\n      <th>CM Mass (kg)</th>\n      <th>CM Mass Diff</th>\n      <th>Total Weight (kg)</th>\n      <th>Total Weight Diff</th>\n      <th>Crewed Area : Payload</th>\n      <th>Sample : Crewed Area</th>\n      <th>Sample : Payload</th>\n    </tr>\n  </thead>\n  <tbody>\n    <tr>\n      <th>0</th>\n      <td>Apollo11</td>\n      <td>21.55424</td>\n      <td>0.00000</td>\n      <td>Orion (LM-11)</td>\n      <td>15264</td>\n      <td>0.0</td>\n      <td>Endeavor (CM-112)</td>\n      <td>5960</td>\n      <td>0.0</td>\n      <td>21224</td>\n      <td>0.0</td>\n      <td>0.487908</td>\n      <td>0.001016</td>\n      <td>0.000495</td>\n    </tr>\n    <tr>\n      <th>1</th>\n      <td>Apollo12</td>\n      <td>34.34238</td>\n      <td>12.78814</td>\n      <td>Antares (LM-8)</td>\n      <td>15235</td>\n      <td>-29.0</td>\n      <td>America (CM-114)</td>\n      <td>5609</td>\n      <td>-351.0</td>\n      <td>20844</td>\n      <td>-380.0</td>\n      <td>0.479172</td>\n      <td>0.001648</td>\n      <td>0.000789</td>\n    </tr>\n    <tr>\n      <th>2</th>\n      <td>Apollo14</td>\n      <td>41.83363</td>\n      <td>7.49125</td>\n      <td>Intrepid (LM-6)</td>\n      <td>16456</td>\n      <td>1221.0</td>\n      <td>Columbia (CSM-107)</td>\n      <td>5840</td>\n      <td>231.0</td>\n      <td>22296</td>\n      <td>1452.0</td>\n      <td>0.512552</td>\n      <td>0.001876</td>\n      <td>0.000962</td>\n    </tr>\n    <tr>\n      <th>3</th>\n      <td>Apollo15</td>\n      <td>75.39910</td>\n      <td>33.56547</td>\n      <td>Eagle (LM-5)</td>\n      <td>16430</td>\n      <td>-26.0</td>\n      <td>Yankee Clipper (CM-108)</td>\n      <td>5875</td>\n      <td>35.0</td>\n      <td>22305</td>\n      <td>9.0</td>\n      <td>0.512759</td>\n      <td>0.003380</td>\n      <td>0.001733</td>\n    </tr>\n    <tr>\n      <th>4</th>\n      <td>Apollo16</td>\n      <td>92.46262</td>\n      <td>17.06352</td>\n      <td>Falcon (LM-10)</td>\n      <td>16445</td>\n      <td>15.0</td>\n      <td>Kitty Hawk (CM-110)</td>\n      <td>5560</td>\n      <td>-315.0</td>\n      <td>22005</td>\n      <td>-300.0</td>\n      <td>0.505862</td>\n      <td>0.004202</td>\n      <td>0.002126</td>\n    </tr>\n    <tr>\n      <th>5</th>\n      <td>Apollo17</td>\n      <td>109.44402</td>\n      <td>16.98140</td>\n      <td>Challenger (LM-12)</td>\n      <td>15103</td>\n      <td>-1342.0</td>\n      <td>Casper (CM-113)</td>\n      <td>5758</td>\n      <td>198.0</td>\n      <td>20861</td>\n      <td>-1144.0</td>\n      <td>0.479563</td>\n      <td>0.005246</td>\n      <td>0.002516</td>\n    </tr>\n  </tbody>\n</table>\n</div>"
     },
     "metadata": {},
     "execution_count": 16
    }
   ],
   "source": [
    "# We know that the Saturn V payload was 43,500 kg, and the weights of the modules varied from mission to mission. So, to determine the ratios that will allow us to make predictions about the Artemis missions, we can use:\n",
    "\n",
    "# Saturn V payload\n",
    "# Mission sample weight\n",
    "# Mission module weight\n",
    "\n",
    "# Sample-to-weight ratio\n",
    "saturnVPayload = 43500\n",
    "missions['Crewed Area : Payload'] = missions['Total Weight (kg)'] / saturnVPayload\n",
    "missions['Sample : Crewed Area'] = missions['Sample Weight(kg)'] / missions['Total Weight (kg)']\n",
    "missions['Sample : Payload'] = missions['Sample Weight(kg)'] / saturnVPayload\n",
    "missions"
   ]
  },
  {
   "cell_type": "code",
   "execution_count": 17,
   "metadata": {},
   "outputs": [
    {
     "output_type": "stream",
     "name": "stdout",
     "text": [
      "0.49630268199233724\n0.0028946732226251396\n0.0014369195019157093\n"
     ]
    }
   ],
   "source": [
    "#Save the ratios\n",
    "# We can then use the mean() function to take the average of all those ratios across all the missions.\n",
    "\n",
    "crewedArea_payload_ratio = missions['Crewed Area : Payload'].mean()\n",
    "sample_crewedArea_ratio = missions['Sample : Crewed Area'].mean()\n",
    "sample_payload_ratio = missions['Sample : Payload'].mean()\n",
    "print(crewedArea_payload_ratio)\n",
    "print(sample_crewedArea_ratio)\n",
    "print(sample_payload_ratio)"
   ]
  },
  {
   "cell_type": "code",
   "execution_count": 18,
   "metadata": {},
   "outputs": [
    {
     "output_type": "execute_result",
     "data": {
      "text/plain": [
       "     Mission  Total Weight (kg)  Payload (kg)  Sample Weight from Total (kg)  \\\n",
       "0   artemis1              26520         26988                      76.766734   \n",
       "1  artemis1b              26520         37965                      76.766734   \n",
       "2   artemis2              26520         42955                      76.766734   \n",
       "\n",
       "   Sample Weight from Payload (kg)  Estimated Sample Weight (kg)  \n",
       "0                        38.779584                     57.773159  \n",
       "1                        54.552649                     65.659691  \n",
       "2                        61.722877                     69.244806  "
      ],
      "text/html": "<div>\n<style scoped>\n    .dataframe tbody tr th:only-of-type {\n        vertical-align: middle;\n    }\n\n    .dataframe tbody tr th {\n        vertical-align: top;\n    }\n\n    .dataframe thead th {\n        text-align: right;\n    }\n</style>\n<table border=\"1\" class=\"dataframe\">\n  <thead>\n    <tr style=\"text-align: right;\">\n      <th></th>\n      <th>Mission</th>\n      <th>Total Weight (kg)</th>\n      <th>Payload (kg)</th>\n      <th>Sample Weight from Total (kg)</th>\n      <th>Sample Weight from Payload (kg)</th>\n      <th>Estimated Sample Weight (kg)</th>\n    </tr>\n  </thead>\n  <tbody>\n    <tr>\n      <th>0</th>\n      <td>artemis1</td>\n      <td>26520</td>\n      <td>26988</td>\n      <td>76.766734</td>\n      <td>38.779584</td>\n      <td>57.773159</td>\n    </tr>\n    <tr>\n      <th>1</th>\n      <td>artemis1b</td>\n      <td>26520</td>\n      <td>37965</td>\n      <td>76.766734</td>\n      <td>54.552649</td>\n      <td>65.659691</td>\n    </tr>\n    <tr>\n      <th>2</th>\n      <td>artemis2</td>\n      <td>26520</td>\n      <td>42955</td>\n      <td>76.766734</td>\n      <td>61.722877</td>\n      <td>69.244806</td>\n    </tr>\n  </tbody>\n</table>\n</div>"
     },
     "metadata": {},
     "execution_count": 18
    }
   ],
   "source": [
    "# Predict Artemis sample capacity\n",
    "# average of two predictions\n",
    "artemis_crewedArea = 26520\n",
    "artemis_mission = pd.DataFrame({'Mission':['artemis1','artemis1b','artemis2'],\n",
    "                                 'Total Weight (kg)':[artemis_crewedArea,artemis_crewedArea,artemis_crewedArea],\n",
    "                                 'Payload (kg)':[26988, 37965, 42955]})\n",
    "artemis_mission['Sample Weight from Total (kg)'] = artemis_mission['Total Weight (kg)'] * sample_crewedArea_ratio\n",
    "artemis_mission['Sample Weight from Payload (kg)'] = artemis_mission['Payload (kg)'] * sample_payload_ratio\n",
    "artemis_mission['Estimated Sample Weight (kg)'] = (artemis_mission['Sample Weight from Payload (kg)'] + artemis_mission['Sample Weight from Total (kg)'])/2\n",
    "artemis_mission"
   ]
  },
  {
   "cell_type": "code",
   "execution_count": 19,
   "metadata": {},
   "outputs": [
    {
     "output_type": "stream",
     "name": "stdout",
     "text": [
      "<class 'pandas.core.frame.DataFrame'>\nInt64Index: 22 entries, 11 to 2183\nData columns (total 7 columns):\n #   Column         Non-Null Count  Dtype  \n---  ------         --------------  -----  \n 0   ID             22 non-null     int64  \n 1   Mission        22 non-null     object \n 2   Type           22 non-null     object \n 3   Subtype        22 non-null     object \n 4   Weight(kg)     22 non-null     float64\n 5   Pristine(%)    22 non-null     float64\n 6   Remaining(kg)  22 non-null     float64\ndtypes: float64(3), int64(1), object(3)\nmemory usage: 1.4+ KB\n"
     ]
    }
   ],
   "source": [
    "# Prioritize Moon rock sample gathering based on data\n",
    "rock_samples['Remaining(kg)'] = rock_samples['Weight(kg)'] * (rock_samples['Pristine(%)'] * .01)\n",
    "low_samples = rock_samples.loc[(rock_samples['Weight(kg)'] >= .16) & (rock_samples['Pristine(%)'] <= 50)]\n",
    "needed_samples = low_samples[low_samples['Type'].isin(['Basalt', 'Breccia'])]\n",
    "needed_samples.info()"
   ]
  },
  {
   "cell_type": "code",
   "execution_count": 23,
   "metadata": {},
   "outputs": [
    {
     "output_type": "execute_result",
     "data": {
      "text/plain": [
       "      Type  Total Weight(kg)  Ave Weight(kg)  Number of Samples  \\\n",
       "0   Basalt           17.4234        1.244529                351   \n",
       "1  Breccia           10.1185        1.264812                959   \n",
       "\n",
       "   Percentage of Rocks  \n",
       "0             0.267939  \n",
       "1             0.732061  "
      ],
      "text/html": "<div>\n<style scoped>\n    .dataframe tbody tr th:only-of-type {\n        vertical-align: middle;\n    }\n\n    .dataframe tbody tr th {\n        vertical-align: top;\n    }\n\n    .dataframe thead th {\n        text-align: right;\n    }\n</style>\n<table border=\"1\" class=\"dataframe\">\n  <thead>\n    <tr style=\"text-align: right;\">\n      <th></th>\n      <th>Type</th>\n      <th>Total Weight(kg)</th>\n      <th>Ave Weight(kg)</th>\n      <th>Number of Samples</th>\n      <th>Percentage of Rocks</th>\n    </tr>\n  </thead>\n  <tbody>\n    <tr>\n      <th>0</th>\n      <td>Basalt</td>\n      <td>17.4234</td>\n      <td>1.244529</td>\n      <td>351</td>\n      <td>0.267939</td>\n    </tr>\n    <tr>\n      <th>1</th>\n      <td>Breccia</td>\n      <td>10.1185</td>\n      <td>1.264812</td>\n      <td>959</td>\n      <td>0.732061</td>\n    </tr>\n  </tbody>\n</table>\n</div>"
     },
     "metadata": {},
     "execution_count": 23
    }
   ],
   "source": [
    "# Develop a recommendation of Moon rock samples to be collected\n",
    "needed_samples_overview = pd.DataFrame()\n",
    "needed_samples_overview['Type'] = needed_samples.Type.unique()\n",
    "needed_sample_weights = needed_samples.groupby('Type')['Weight(kg)'].sum().reset_index()\n",
    "needed_samples_overview = pd.merge(needed_samples_overview, needed_sample_weights, on='Type')\n",
    "needed_samples_overview.rename(columns={'Weight(kg)':'Total Weight(kg)'}, inplace=True)\n",
    "needed_sample_ave_weights = needed_samples.groupby('Type')['Weight(kg)'].mean().reset_index()\n",
    "needed_samples_overview = pd.merge(needed_samples_overview, needed_sample_ave_weights, on='Type')\n",
    "needed_samples_overview.rename(columns={'Weight(kg)':'Ave Weight(kg)'}, inplace=True)\n",
    "total_rock_count = rock_samples.groupby('Type')['ID'].count().reset_index()\n",
    "needed_samples_overview = pd.merge(needed_samples_overview, total_rock_count, on='Type')\n",
    "needed_samples_overview.rename(columns={'ID':'Number of Samples'}, inplace=True)\n",
    "total_rocks = needed_samples_overview['Number of Samples'].sum()\n",
    "needed_samples_overview['Percentage of Rocks'] = needed_samples_overview['Number of Samples'] / total_rocks\n",
    "needed_samples_overview"
   ]
  },
  {
   "cell_type": "code",
   "execution_count": null,
   "metadata": {},
   "outputs": [],
   "source": [
    "# from this we can say that Over 825 lb, or 375 kg total weight of the samples that were brought back by the six Apollo missions that landed on the Moon."
   ]
  }
 ]
}